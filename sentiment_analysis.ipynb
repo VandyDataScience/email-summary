{
 "cells": [
  {
   "cell_type": "code",
   "execution_count": 4,
   "id": "d9973b2d",
   "metadata": {
    "scrolled": false
   },
   "outputs": [
    {
     "name": "stderr",
     "output_type": "stream",
     "text": [
      "C:\\Users\\User\\anaconda3\\lib\\site-packages\\transformers\\pipelines\\text_classification.py:104: UserWarning: `return_all_scores` is now deprecated,  if want a similar funcionality use `top_k=None` instead of `return_all_scores=True` or `top_k=1` instead of `return_all_scores=False`.\n",
      "  warnings.warn(\n"
     ]
    }
   ],
   "source": [
    "from transformers import pipeline\n",
    "classifier = pipeline(\"text-classification\", model=\"j-hartmann/emotion-english-distilroberta-base\", return_all_scores=True)"
   ]
  },
  {
   "cell_type": "code",
   "execution_count": 5,
   "id": "443b0e0f",
   "metadata": {
    "scrolled": true
   },
   "outputs": [],
   "source": [
    "def toneAnalyzer(obj):\n",
    "    #after simple testing, writings with emotions across the board are more\n",
    "    #suited towards nuetral, .4 might not be the correct -- am open to suggestions\n",
    "    finalEmotion = 'neutral'\n",
    "    print(obj, \"\\n\")\n",
    "    for item in obj:\n",
    "        for item2 in item:\n",
    "            #compare against highest\n",
    "            if (item2['score'] > .4):\n",
    "                 finalEmotion = item2['label']\n",
    "    return(finalEmotion)"
   ]
  },
  {
   "cell_type": "code",
   "execution_count": 1,
   "id": "fd550f48",
   "metadata": {},
   "outputs": [],
   "source": [
    "import numpy as np\n",
    "import pandas as pd\n",
    "\n",
    "df = pd.read_csv('https://query.data.world/s/l3hzkdb27urlhvxxcdfkytmsjyrnai', on_bad_lines='skip')"
   ]
  },
  {
   "cell_type": "code",
   "execution_count": 2,
   "id": "e46c6c55",
   "metadata": {
    "scrolled": false
   },
   "outputs": [
    {
     "name": "stdout",
     "output_type": "stream",
     "text": [
      "<class 'str'>\n",
      "4960    Subject: contact details  dear mr . kaminski  ...\n"
     ]
    }
   ],
   "source": [
    "#need for preprocessing -not necessarily for tweets but for emails, i.e only the subject\n",
    "#when you reply to emails the og email is there\n",
    "classified = df.sample(1)['text'].to_string(buf = None, na_rep = \"Neutral\")\n",
    "\n",
    "print(type(classified))\n",
    "print(classified)"
   ]
  },
  {
   "cell_type": "code",
   "execution_count": 6,
   "id": "c19406ac",
   "metadata": {
    "scrolled": true
   },
   "outputs": [
    {
     "name": "stdout",
     "output_type": "stream",
     "text": [
      "[[{'label': 'anger', 'score': 0.008811102248728275}, {'label': 'disgust', 'score': 0.0015486235497519374}, {'label': 'fear', 'score': 0.013679268769919872}, {'label': 'joy', 'score': 0.07657049596309662}, {'label': 'neutral', 'score': 0.2707390785217285}, {'label': 'sadness', 'score': 0.26606374979019165}, {'label': 'surprise', 'score': 0.3625876307487488}]] \n",
      "\n",
      "neutral\n"
     ]
    }
   ],
   "source": [
    "testObj = classifier(classified)\n",
    "print(toneAnalyzer(testObj))"
   ]
  },
  {
   "cell_type": "code",
   "execution_count": 107,
   "id": "6d18ec89",
   "metadata": {},
   "outputs": [
    {
     "name": "stdout",
     "output_type": "stream",
     "text": [
      "neutral\n"
     ]
    }
   ],
   "source": [
    "print(toneAnalyzer(testObj))"
   ]
  },
  {
   "cell_type": "code",
   "execution_count": null,
   "id": "024bf341",
   "metadata": {},
   "outputs": [],
   "source": [
    "print(toneAnalyzer(testObj))"
   ]
  }
 ],
 "metadata": {
  "kernelspec": {
   "display_name": "Python 3 (ipykernel)",
   "language": "python",
   "name": "python3"
  },
  "language_info": {
   "codemirror_mode": {
    "name": "ipython",
    "version": 3
   },
   "file_extension": ".py",
   "mimetype": "text/x-python",
   "name": "python",
   "nbconvert_exporter": "python",
   "pygments_lexer": "ipython3",
   "version": "3.9.13"
  }
 },
 "nbformat": 4,
 "nbformat_minor": 5
}
